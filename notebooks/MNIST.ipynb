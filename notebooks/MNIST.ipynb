{
 "cells": [
  {
   "cell_type": "code",
   "execution_count": 5,
   "metadata": {},
   "outputs": [],
   "source": [
    "import os\n",
    "import random\n",
    "import numpy as np\n",
    "import pylab as plt\n",
    "%matplotlib inline\n",
    "\n",
    "import sys\n",
    "# sys.path.insert(0,'./../../../alan/CSGAN/')\n",
    "\n",
    "import csgan as cs\n"
   ]
  },
  {
   "cell_type": "code",
   "execution_count": 6,
   "metadata": {},
   "outputs": [
    {
     "name": "stdout",
     "output_type": "stream",
     "text": [
      "Extracting ../../../dataset/mnist/train-images-idx3-ubyte.gz\n",
      "Extracting ../../../dataset/mnist/train-labels-idx1-ubyte.gz\n",
      "Extracting ../../../dataset/mnist/t10k-images-idx3-ubyte.gz\n",
      "Extracting ../../../dataset/mnist/t10k-labels-idx1-ubyte.gz\n"
     ]
    }
   ],
   "source": [
    "from tensorflow.examples.tutorials.mnist import input_data\n",
    "mnist = input_data.read_data_sets(\"../../../dataset/mnist/\")"
   ]
  },
  {
   "cell_type": "code",
   "execution_count": 7,
   "metadata": {
    "collapsed": true
   },
   "outputs": [],
   "source": [
    "x_train = mnist.train.images[:55000,:]\n",
    "x_train.shape\n",
    "\n",
    "class data_provider(object):\n",
    "    def __init__(self,x_train):\n",
    "        \n",
    "        x_train = x_train/np.max(x_train,axis=1)[:,None]\n",
    "        self.x_train = x_train\n",
    "        self.num = x_train.shape[0]\n",
    "        \n",
    "    def __call__(self,n):\n",
    "        n_list = np.arange(self.num)\n",
    "        random.shuffle(n_list)\n",
    "        return self.x_train[n_list[:n]].reshape(n,28,28,1)\n",
    "        "
   ]
  },
  {
   "cell_type": "code",
   "execution_count": 8,
   "metadata": {},
   "outputs": [
    {
     "data": {
      "image/png": "[encoded data removed]",
      "text/plain": [
       "<matplotlib.figure.Figure at 0x7f52b1490710>"
      ]
     },
     "metadata": {},
     "output_type": "display_data"
    }
   ],
   "source": [
    "dp = data_provider(x_train)\n",
    "    \n",
    "image = dp(10)[0].reshape([28,28])\n",
    "plt.imshow(image, cmap=plt.get_cmap('gray_r'))\n",
    "plt.show()"
   ]
  },
  {
   "cell_type": "code",
   "execution_count": 9,
   "metadata": {},
   "outputs": [
    {
     "data": {
      "text/plain": [
       "(10, 28, 28, 1)"
      ]
     },
     "execution_count": 9,
     "metadata": {},
     "output_type": "execute_result"
    }
   ],
   "source": [
    "dp(10).shape"
   ]
  },
  {
   "cell_type": "code",
   "execution_count": 10,
   "metadata": {},
   "outputs": [
    {
     "name": "stdout",
     "output_type": "stream",
     "text": [
      "Output size is same as input's!\n"
     ]
    }
   ],
   "source": [
    "# defult_model_build lets you to define your own generator and discriminator. \n",
    "# Set it to 1, if you want to use default DCGAN architecture.\n",
    "defult_model_build=0 \n",
    "\n",
    "dcgan = cs.DCGAN(\n",
    "    data_provider = dp,\n",
    "    batch_size=64, gf_dim=64, df_dim=64,\n",
    "    z_dim=100,checkpoint_dir='./checkpoint/',\n",
    "    save_per = 100, defult_model_build=defult_model_build)"
   ]
  },
  {
   "cell_type": "code",
   "execution_count": 11,
   "metadata": {
    "collapsed": true
   },
   "outputs": [],
   "source": [
    "if ~defult_model_build:\n",
    "    import tensorflow as tf\n",
    "\n",
    "    def discriminator(image, reuse=False):\n",
    "        with tf.variable_scope(\"discriminator\") as scope:\n",
    "            if reuse:\n",
    "                scope.reuse_variables()\n",
    "\n",
    "            trainable = 1\n",
    "\n",
    "            h0 = tf.layers.conv2d(inputs=image, filters=dcgan.df_dim, kernel_size=[5,5], \n",
    "                     strides=(2,2),padding='same',\n",
    "                     activation=tf.nn.relu, name='d_h0_conv')\n",
    "\n",
    "            h1 = tf.layers.conv2d(inputs=h0, filters=2*dcgan.df_dim, kernel_size=[5,5], \n",
    "                     strides=(2,2),padding='same',\n",
    "                     activation=None, name='d_h1_conv')\n",
    "            h1 = tf.contrib.layers.batch_norm(h1,decay=0.9,updates_collections=None,\n",
    "                            epsilon=1e-5,scale=True,is_training=trainable,scope='d_bn1')\n",
    "            h1 = tf.nn.relu(h1)\n",
    "\n",
    "            h2 = tf.layers.conv2d(inputs=h1, filters=4*dcgan.df_dim, kernel_size=[5,5], \n",
    "                     strides=(2,2),padding='same',\n",
    "                     activation=None, name='d_h2_conv')\n",
    "            h2 = tf.contrib.layers.batch_norm(h2,decay=0.9,updates_collections=None,\n",
    "                            epsilon=1e-5,scale=True,is_training=trainable,scope='d_bn2')\n",
    "            h2 = tf.nn.relu(h2)\n",
    "\n",
    "            h3 = tf.layers.conv2d(inputs=h2, filters=8*dcgan.df_dim, kernel_size=[5,5], \n",
    "                     strides=(2,2),padding='same',\n",
    "                     activation=None, name='d_h3_conv')\n",
    "            h3 = tf.contrib.layers.batch_norm(h3,decay=0.9,updates_collections=None,\n",
    "                            epsilon=1e-5,scale=True,is_training=trainable,scope='d_bn3')\n",
    "            h3 = tf.nn.relu(h3)\n",
    "\n",
    "            h4 = tf.layers.dense(inputs=tf.reshape(h3, [dcgan.batch_size, -1]),\n",
    "                                 units=1,kernel_initializer=tf.random_normal_initializer(stddev=0.02), \n",
    "                                 bias_initializer=tf.constant_initializer (0.01),\n",
    "                                 use_bias=1,activation=None,name='d_h4_lin')\n",
    "\n",
    "        return tf.nn.sigmoid(h4), h4\n",
    "\n",
    "    def generator(z, batch_size, mode='train'):\n",
    "        with tf.variable_scope(\"generator\") as scope:\n",
    "            if mode=='train':\n",
    "                trainable = True\n",
    "                pass\n",
    "            elif mode=='sampler':\n",
    "                trainable = False\n",
    "                scope.reuse_variables()\n",
    "            else:\n",
    "                assert 0,'Unkown mode for generator.'\n",
    "\n",
    "            s_h, s_w = dcgan.output_height, dcgan.output_width\n",
    "            s_h2, s_w2 = cs.conv_out_size_same(s_h, 2),  cs.conv_out_size_same(s_w, 2)\n",
    "            s_h4, s_w4 = cs.conv_out_size_same(s_h2, 2),  cs.conv_out_size_same(s_w2, 2)\n",
    "            s_h8, s_w8 = cs.conv_out_size_same(s_h4, 2),  cs.conv_out_size_same(s_w4, 2)\n",
    "            s_h16, s_w16 = cs.conv_out_size_same(s_h8, 2),  cs.conv_out_size_same(s_w8, 2)\n",
    "\n",
    "            # assert s_h16*s_w16*self.gf_dim*8==z.shape[1],str(s_h16*s_w16*self.gf_dim*8)+' != '+str(z.shape[1])\n",
    "\n",
    "            # project `z` and reshape\n",
    "            dcgan.z_ = tf.layers.dense(z,dcgan.gf_dim * 8 * s_h16 * s_w16,\n",
    "                                kernel_initializer=tf.random_normal_initializer(stddev=0.02), \n",
    "                                bias_initializer=tf.constant_initializer (0.01),\n",
    "                                use_bias=1,activation=None,name='g_h0_lin')\n",
    "            with tf.variable_scope('g_h0_lin', reuse=True):\n",
    "                dcgan.h0_w = tf.get_variable('kernel')\n",
    "                dcgan.h0_b = tf.get_variable('bias')\n",
    "            dcgan.h0 = tf.reshape(dcgan.z_, [batch_size, s_h16, s_w16, dcgan.gf_dim * 8])\n",
    "            h0 = tf.contrib.layers.batch_norm(dcgan.h0,decay=0.9,updates_collections=None,\n",
    "                            epsilon=1e-5,scale=True,is_training=trainable,scope='g_bn0')\n",
    "            h0 = tf.nn.relu(h0)\n",
    "\n",
    "            dcgan.h1, dcgan.h1_w, dcgan.h1_b = cs.deconv2d(h0, [batch_size, s_h8, s_w8, dcgan.gf_dim * 4], \n",
    "                                                    name='g_h1', with_w=True)\n",
    "            h1 = tf.contrib.layers.batch_norm(dcgan.h1,decay=0.9,updates_collections=None,\n",
    "                            epsilon=1e-5,scale=True,is_training=trainable,scope='g_bn1')\n",
    "            h1 = tf.nn.relu(h1) \n",
    "\n",
    "            h2, dcgan.h2_w, dcgan.h2_b = cs.deconv2d(h1, [batch_size, s_h4, s_w4, dcgan.gf_dim * 2],\n",
    "                                                     name='g_h2', with_w=True)\n",
    "            h2 = tf.contrib.layers.batch_norm(h2,decay=0.9,updates_collections=None,\n",
    "                            epsilon=1e-5,scale=True,is_training=trainable,scope='g_bn2')\n",
    "            h2 = tf.nn.relu(h2) \n",
    "\n",
    "            h3, dcgan.h3_w, dcgan.h3_b = cs.deconv2d(h2, [batch_size, s_h2, s_w2, dcgan.gf_dim * 1],\n",
    "                                                     name='g_h3', with_w=True)\n",
    "            h3 = tf.contrib.layers.batch_norm(h3,decay=0.9,updates_collections=None,\n",
    "                            epsilon=1e-5,scale=True,is_training=trainable,scope='g_bn3')\n",
    "            h3 = tf.nn.relu(h3) \n",
    "\n",
    "            h4, dcgan.h4_w, dcgan.h4_b = cs.deconv2d(h3, [batch_size, s_h, s_w, dcgan.c_dim],\n",
    "                                                     name='g_h4', with_w=True)\n",
    "\n",
    "            return tf.nn.tanh(h4)\n",
    "        \n",
    "    dcgan.discriminator = discriminator\n",
    "    dcgan.generator = generator\n",
    "    dcgan.build_model()"
   ]
  },
  {
   "cell_type": "code",
   "execution_count": 12,
   "metadata": {
    "collapsed": true
   },
   "outputs": [],
   "source": [
    "dcgan.train(num_epoch=4,batch_per_epoch = 200,verbose=10)"
   ]
  },
  {
   "cell_type": "code",
   "execution_count": 13,
   "metadata": {
    "collapsed": true
   },
   "outputs": [],
   "source": [
    "# dcgan.generate(np.random.normal(0,1,100))"
   ]
  },
  {
   "cell_type": "code",
   "execution_count": null,
   "metadata": {},
   "outputs": [
    {
     "name": "stdout",
     "output_type": "stream",
     "text": [
      " [*] Reading checkpoints...\n",
      " [*] Failed to find a checkpoint\n",
      " [!] Load failed...\n",
      "./samples/train_00_0000.png\n",
      "./samples/train_00_0001.png\n"
     ]
    }
   ],
   "source": [
    "dcgan.train(num_epoch=2,batch_per_epoch = 3,verbose=10,sample_per=1)"
   ]
  },
  {
   "cell_type": "code",
   "execution_count": null,
   "metadata": {
    "collapsed": true
   },
   "outputs": [],
   "source": []
  },
  {
   "cell_type": "code",
   "execution_count": null,
   "metadata": {
    "collapsed": true
   },
   "outputs": [],
   "source": []
  }
 ],
 "metadata": {
  "kernelspec": {
   "display_name": "Python 2",
   "language": "python",
   "name": "python2"
  },
  "language_info": {
   "codemirror_mode": {
    "name": "ipython",
    "version": 2
   },
   "file_extension": ".py",
   "mimetype": "text/x-python",
   "name": "python",
   "nbconvert_exporter": "python",
   "pygments_lexer": "ipython2",
   "version": "2.7.14"
  }
 },
 "nbformat": 4,
 "nbformat_minor": 2
}

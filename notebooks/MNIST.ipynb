{
 "cells": [
  {
   "cell_type": "code",
   "execution_count": 1,
   "metadata": {
    "collapsed": true
   },
   "outputs": [],
   "source": [
    "import os\n",
    "import random\n",
    "import numpy as np\n",
    "import pylab as plt\n",
    "%matplotlib inline\n",
    "\n",
    "import sys\n",
    "sys.path.insert(0,'./../../../alan/CSGAN/')\n",
    "\n",
    "import csgan as cs\n"
   ]
  },
  {
   "cell_type": "code",
   "execution_count": 2,
   "metadata": {},
   "outputs": [
    {
     "name": "stdout",
     "output_type": "stream",
     "text": [
      "Extracting ../../../dataset/mnist/train-images-idx3-ubyte.gz\n",
      "Extracting ../../../dataset/mnist/train-labels-idx1-ubyte.gz\n",
      "Extracting ../../../dataset/mnist/t10k-images-idx3-ubyte.gz\n",
      "Extracting ../../../dataset/mnist/t10k-labels-idx1-ubyte.gz\n"
     ]
    }
   ],
   "source": [
    "from tensorflow.examples.tutorials.mnist import input_data\n",
    "mnist = input_data.read_data_sets(\"../../../dataset/mnist/\")"
   ]
  },
  {
   "cell_type": "code",
   "execution_count": 3,
   "metadata": {},
   "outputs": [],
   "source": [
    "x_train = mnist.train.images[:55000,:]\n",
    "x_train.shape\n",
    "\n",
    "class data_provider(object):\n",
    "    def __init__(self,x_train):\n",
    "        self.x_train = x_train\n",
    "        self.num = x_train.shape[0]\n",
    "        \n",
    "    def __call__(self,n):\n",
    "        n_list = np.arange(self.num)\n",
    "        random.shuffle(n_list)\n",
    "        return self.x_train[n_list[:n]].reshape(n,28,28,1)\n",
    "        "
   ]
  },
  {
   "cell_type": "code",
   "execution_count": 4,
   "metadata": {},
   "outputs": [
    {
     "data": {
      "image/png": "[encoded data removed]",
      "text/plain": [
       "<matplotlib.figure.Figure at 0x7fbac8ed7fd0>"
      ]
     },
     "metadata": {},
     "output_type": "display_data"
    }
   ],
   "source": [
    "dp = data_provider(x_train)\n",
    "    \n",
    "image = dp(10)[0].reshape([28,28])\n",
    "plt.imshow(image, cmap=plt.get_cmap('gray_r'))\n",
    "plt.show()"
   ]
  },
  {
   "cell_type": "code",
   "execution_count": 5,
   "metadata": {},
   "outputs": [
    {
     "data": {
      "text/plain": [
       "(10, 28, 28, 1)"
      ]
     },
     "execution_count": 5,
     "metadata": {},
     "output_type": "execute_result"
    }
   ],
   "source": [
    "dp(10).shape"
   ]
  },
  {
   "cell_type": "code",
   "execution_count": 7,
   "metadata": {},
   "outputs": [
    {
     "name": "stdout",
     "output_type": "stream",
     "text": [
      "Output size is same as input's!\n",
      " [*] Reading checkpoints...\n",
      "INFO:tensorflow:Restoring parameters from ./checkpoint/28_28/DCGAN.model-2002\n",
      " [*] Success to read DCGAN.model-2002\n",
      " [*] Load SUCCESS\n",
      "Epoch: [ 0] [  98/ 200] time: 146.5149, d_loss: 0.28772438, g_loss: 2.44617558\n",
      "Epoch: [ 0] [ 198/ 200] time: 279.3275, d_loss: 0.11351220, g_loss: 2.94747210\n",
      "./samples/train_00_0198.png\n",
      "Epoch: [ 1] [  98/ 200] time: 397.5464, d_loss: 0.15292561, g_loss: 2.45058489\n",
      "Epoch: [ 1] [ 198/ 200] time: 514.8439, d_loss: 0.12522458, g_loss: 2.60880780\n",
      "./samples/train_01_0198.png\n"
     ]
    }
   ],
   "source": [
    "dcgan = cs.DCGAN(\n",
    "    data_provider = dp,\n",
    "    batch_size=17,\n",
    "    gf_dim=16, df_dim=64,\n",
    "    z_dim=100,\n",
    "    checkpoint_dir='./checkpoint/',save_per = 100)\n",
    "\n",
    "dcgan.train(num_epoch=2,batch_per_epoch = 200,verbose=100)"
   ]
  },
  {
   "cell_type": "code",
   "execution_count": 2,
   "metadata": {},
   "outputs": [],
   "source": [
    "import tensorflow as tf\n",
    "\n",
    "input1 = tf.random_normal([1,10,10,32])\n",
    "input2 = tf.random_normal([1,20,20,32])\n",
    "\n",
    "def conv_relu(input, kernel_shape, bias_shape):\n",
    "    # Create variable named \"weights\".\n",
    "    weights = tf.get_variable(\"weights\", kernel_shape,\n",
    "        initializer=tf.random_normal_initializer())\n",
    "    # Create variable named \"biases\".\n",
    "    biases = tf.get_variable(\"biases\", bias_shape,\n",
    "        initializer=tf.constant_initializer(0.0))\n",
    "    conv = tf.nn.conv2d(input, weights,\n",
    "        strides=[1, 1, 1, 1], padding='SAME')\n",
    "    return tf.nn.relu(conv + biases)\n",
    "\n",
    "\n",
    "def my_image_filter(input_images):\n",
    "    with tf.variable_scope(\"conv1\"):\n",
    "        # Variables created here will be named \"conv1/weights\", \"conv1/biases\".\n",
    "        relu1 = conv_relu(input_images, [5, 5, 32, 32], [32])\n",
    "    with tf.variable_scope(\"conv2\"):\n",
    "        # Variables created here will be named \"conv2/weights\", \"conv2/biases\".\n",
    "        return conv_relu(relu1, [5, 5, 32, 32], [32])\n",
    "\n",
    "\n",
    "with tf.variable_scope(\"model\"):\n",
    "    output1 = my_image_filter(input1)\n",
    "with tf.variable_scope(\"model\", reuse=True):\n",
    "    output2 = my_image_filter(input2)\n"
   ]
  },
  {
   "cell_type": "code",
   "execution_count": 3,
   "metadata": {},
   "outputs": [
    {
     "data": {
      "text/plain": [
       "[u'random_normal/shape',\n",
       " u'random_normal/mean',\n",
       " u'random_normal/stddev',\n",
       " u'random_normal/RandomStandardNormal',\n",
       " u'random_normal/mul',\n",
       " u'random_normal',\n",
       " u'random_normal_1/shape',\n",
       " u'random_normal_1/mean',\n",
       " u'random_normal_1/stddev',\n",
       " u'random_normal_1/RandomStandardNormal',\n",
       " u'random_normal_1/mul',\n",
       " u'random_normal_1',\n",
       " u'model/conv1/weights/Initializer/random_normal/shape',\n",
       " u'model/conv1/weights/Initializer/random_normal/mean',\n",
       " u'model/conv1/weights/Initializer/random_normal/stddev',\n",
       " u'model/conv1/weights/Initializer/random_normal/RandomStandardNormal',\n",
       " u'model/conv1/weights/Initializer/random_normal/mul',\n",
       " u'model/conv1/weights/Initializer/random_normal',\n",
       " u'model/conv1/weights',\n",
       " u'model/conv1/weights/Assign',\n",
       " u'model/conv1/weights/read',\n",
       " u'model/conv1/biases/Initializer/Const',\n",
       " u'model/conv1/biases',\n",
       " u'model/conv1/biases/Assign',\n",
       " u'model/conv1/biases/read',\n",
       " u'model/conv1/Conv2D',\n",
       " u'model/conv1/add',\n",
       " u'model/conv1/Relu',\n",
       " u'model/conv2/weights/Initializer/random_normal/shape',\n",
       " u'model/conv2/weights/Initializer/random_normal/mean',\n",
       " u'model/conv2/weights/Initializer/random_normal/stddev',\n",
       " u'model/conv2/weights/Initializer/random_normal/RandomStandardNormal',\n",
       " u'model/conv2/weights/Initializer/random_normal/mul',\n",
       " u'model/conv2/weights/Initializer/random_normal',\n",
       " u'model/conv2/weights',\n",
       " u'model/conv2/weights/Assign',\n",
       " u'model/conv2/weights/read',\n",
       " u'model/conv2/biases/Initializer/Const',\n",
       " u'model/conv2/biases',\n",
       " u'model/conv2/biases/Assign',\n",
       " u'model/conv2/biases/read',\n",
       " u'model/conv2/Conv2D',\n",
       " u'model/conv2/add',\n",
       " u'model/conv2/Relu',\n",
       " u'model_1/conv1/Conv2D',\n",
       " u'model_1/conv1/add',\n",
       " u'model_1/conv1/Relu',\n",
       " u'model_1/conv2/Conv2D',\n",
       " u'model_1/conv2/add',\n",
       " u'model_1/conv2/Relu']"
      ]
     },
     "execution_count": 3,
     "metadata": {},
     "output_type": "execute_result"
    }
   ],
   "source": [
    "[n.name for n in tf.get_default_graph().as_graph_def().node]"
   ]
  },
  {
   "cell_type": "code",
   "execution_count": null,
   "metadata": {
    "collapsed": true
   },
   "outputs": [],
   "source": []
  }
 ],
 "metadata": {
  "kernelspec": {
   "display_name": "Python 2",
   "language": "python",
   "name": "python2"
  }
 },
 "nbformat": 4,
 "nbformat_minor": 2
}

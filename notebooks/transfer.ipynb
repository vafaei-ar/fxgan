{
 "cells": [
  {
   "cell_type": "code",
   "execution_count": 7,
   "metadata": {
    "collapsed": true
   },
   "outputs": [],
   "source": [
    "import numpy as np\n",
    "import pylab as plt\n",
    "from skimage.draw import circle,polygon,circle_perimeter,polygon_perimeter\n",
    "\n",
    "import tensorflow as tf\n",
    "\n",
    "%matplotlib inline"
   ]
  },
  {
   "cell_type": "code",
   "execution_count": 18,
   "metadata": {
    "collapsed": true
   },
   "outputs": [],
   "source": [
    "xc = 30\n",
    "yc = 60\n",
    "radius = 20\n",
    "\n",
    "img = np.zeros((100, 100), dtype=np.uint8)\n",
    "rr, cc = circle(c=xc, r=yc, radius=radius)\n",
    "img[rr, cc] = 1"
   ]
  },
  {
   "cell_type": "code",
   "execution_count": 19,
   "metadata": {
    "collapsed": true
   },
   "outputs": [],
   "source": [
    "r = np.array([yc-radius, yc, yc+radius])\n",
    "c = np.array([xc-radius, xc, xc-radius])\n",
    "rr, cc = polygon(r, c)\n",
    "img[rr, cc] = 2"
   ]
  },
  {
   "cell_type": "code",
   "execution_count": 20,
   "metadata": {},
   "outputs": [
    {
     "data": {
      "text/plain": [
       "<matplotlib.image.AxesImage at 0x7fef86888910>"
      ]
     },
     "execution_count": 20,
     "metadata": {},
     "output_type": "execute_result"
    },
    {
     "data": {
      "image/png": "[encoded data removed]",
      "text/plain": [
       "<matplotlib.figure.Figure at 0x7fef86969310>"
      ]
     },
     "metadata": {},
     "output_type": "display_data"
    }
   ],
   "source": [
    "plt.imshow(img)"
   ]
  },
  {
   "cell_type": "code",
   "execution_count": 12,
   "metadata": {},
   "outputs": [
    {
     "name": "stdout",
     "output_type": "stream",
     "text": [
      "Help on function dense in module tensorflow.python.layers.core:\n",
      "\n",
      "dense(inputs, units, activation=None, use_bias=True, kernel_initializer=None, bias_initializer=<tensorflow.python.ops.init_ops.Zeros object>, kernel_regularizer=None, bias_regularizer=None, activity_regularizer=None, trainable=True, name=None, reuse=None)\n",
      "    Functional interface for the densely-connected layer.\n",
      "    \n",
      "    This layer implements the operation:\n",
      "    `outputs = activation(inputs.kernel + bias)`\n",
      "    Where `activation` is the activation function passed as the `activation`\n",
      "    argument (if not `None`), `kernel` is a weights matrix created by the layer,\n",
      "    and `bias` is a bias vector created by the layer\n",
      "    (only if `use_bias` is `True`).\n",
      "    \n",
      "    Note: if the `inputs` tensor has a rank greater than 2, then it is\n",
      "    flattened prior to the initial matrix multiply by `kernel`.\n",
      "    \n",
      "    Arguments:\n",
      "      inputs: Tensor input.\n",
      "      units: Integer or Long, dimensionality of the output space.\n",
      "      activation: Activation function (callable). Set it to None to maintain a\n",
      "        linear activation.\n",
      "      use_bias: Boolean, whether the layer uses a bias.\n",
      "      kernel_initializer: Initializer function for the weight matrix.\n",
      "      bias_initializer: Initializer function for the bias.\n",
      "      kernel_regularizer: Regularizer function for the weight matrix.\n",
      "      bias_regularizer: Regularizer function for the bias.\n",
      "      activity_regularizer: Regularizer function for the output.\n",
      "      trainable: Boolean, if `True` also add variables to the graph collection\n",
      "        `GraphKeys.TRAINABLE_VARIABLES` (see `tf.Variable`).\n",
      "      name: String, the name of the layer.\n",
      "      reuse: Boolean, whether to reuse the weights of a previous layer\n",
      "        by the same name.\n",
      "    \n",
      "    Returns:\n",
      "      Output tensor.\n",
      "\n"
     ]
    }
   ],
   "source": [
    "help(tf.layers.dense)"
   ]
  },
  {
   "cell_type": "code",
   "execution_count": 15,
   "metadata": {},
   "outputs": [
    {
     "name": "stdout",
     "output_type": "stream",
     "text": [
      "Help on function conv2d_transpose in module tensorflow.python.ops.nn_ops:\n",
      "\n",
      "conv2d_transpose(value, filter, output_shape, strides, padding='SAME', data_format='NHWC', name=None)\n",
      "    The transpose of `conv2d`.\n",
      "    \n",
      "    This operation is sometimes called \"deconvolution\" after [Deconvolutional\n",
      "    Networks](http://www.matthewzeiler.com/pubs/cvpr2010/cvpr2010.pdf), but is\n",
      "    actually the transpose (gradient) of `conv2d` rather than an actual\n",
      "    deconvolution.\n",
      "    \n",
      "    Args:\n",
      "      value: A 4-D `Tensor` of type `float` and shape\n",
      "        `[batch, height, width, in_channels]` for `NHWC` data format or\n",
      "        `[batch, in_channels, height, width]` for `NCHW` data format.\n",
      "      filter: A 4-D `Tensor` with the same type as `value` and shape\n",
      "        `[height, width, output_channels, in_channels]`.  `filter`'s\n",
      "        `in_channels` dimension must match that of `value`.\n",
      "      output_shape: A 1-D `Tensor` representing the output shape of the\n",
      "        deconvolution op.\n",
      "      strides: A list of ints. The stride of the sliding window for each\n",
      "        dimension of the input tensor.\n",
      "      padding: A string, either `'VALID'` or `'SAME'`. The padding algorithm.\n",
      "        See the @{tf.nn.convolution$comment here}\n",
      "      data_format: A string. 'NHWC' and 'NCHW' are supported.\n",
      "      name: Optional name for the returned tensor.\n",
      "    \n",
      "    Returns:\n",
      "      A `Tensor` with the same type as `value`.\n",
      "    \n",
      "    Raises:\n",
      "      ValueError: If input/output depth does not match `filter`'s shape, or if\n",
      "        padding is other than `'VALID'` or `'SAME'`.\n",
      "\n"
     ]
    }
   ],
   "source": [
    "help(tf.nn.conv2d_transpose)"
   ]
  },
  {
   "cell_type": "code",
   "execution_count": null,
   "metadata": {
    "collapsed": true
   },
   "outputs": [],
   "source": []
  }
 ],
 "metadata": {
  "kernelspec": {
   "display_name": "Python 2",
   "language": "python",
   "name": "python2"
  },
  "language_info": {
   "codemirror_mode": {
    "name": "ipython",
    "version": 2
   },
   "file_extension": ".py",
   "mimetype": "text/x-python",
   "name": "python",
   "nbconvert_exporter": "python",
   "pygments_lexer": "ipython2",
   "version": "2.7.14"
  }
 },
 "nbformat": 4,
 "nbformat_minor": 2
}
